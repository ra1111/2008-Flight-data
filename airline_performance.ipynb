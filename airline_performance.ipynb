{
 "cells": [
  {
   "cell_type": "code",
   "execution_count": 1,
   "metadata": {},
   "outputs": [],
   "source": [
    "import os\n",
    "import re\n",
    "import numpy as np\n",
    "import pandas as pd\n",
    "import matplotlib.pyplot as plt\n",
    "import seaborn as sns\n",
    "import datetime\n",
    "df=pd.read_csv('2008.csv')\n"
   ]
  },
  {
   "cell_type": "code",
   "execution_count": 2,
   "metadata": {},
   "outputs": [
    {
     "name": "stdout",
     "output_type": "stream",
     "text": [
      "There are 7009728 rows and 29 columns\n"
     ]
    }
   ],
   "source": [
    "nRow, nCol = df.shape\n",
    "print(f'There are {nRow} rows and {nCol} columns')"
   ]
  },
  {
   "cell_type": "code",
   "execution_count": 3,
   "metadata": {},
   "outputs": [
    {
     "data": {
      "text/html": [
       "<div>\n",
       "<style scoped>\n",
       "    .dataframe tbody tr th:only-of-type {\n",
       "        vertical-align: middle;\n",
       "    }\n",
       "\n",
       "    .dataframe tbody tr th {\n",
       "        vertical-align: top;\n",
       "    }\n",
       "\n",
       "    .dataframe thead th {\n",
       "        text-align: right;\n",
       "    }\n",
       "</style>\n",
       "<table border=\"1\" class=\"dataframe\">\n",
       "  <thead>\n",
       "    <tr style=\"text-align: right;\">\n",
       "      <th></th>\n",
       "      <th>variable</th>\n",
       "      <th>missing values</th>\n",
       "      <th>filling factor (%)</th>\n",
       "    </tr>\n",
       "  </thead>\n",
       "  <tbody>\n",
       "    <tr>\n",
       "      <th>0</th>\n",
       "      <td>CancellationCode</td>\n",
       "      <td>6872294</td>\n",
       "      <td>1.960618</td>\n",
       "    </tr>\n",
       "    <tr>\n",
       "      <th>1</th>\n",
       "      <td>LateAircraftDelay</td>\n",
       "      <td>5484993</td>\n",
       "      <td>21.751700</td>\n",
       "    </tr>\n",
       "    <tr>\n",
       "      <th>2</th>\n",
       "      <td>NASDelay</td>\n",
       "      <td>5484993</td>\n",
       "      <td>21.751700</td>\n",
       "    </tr>\n",
       "    <tr>\n",
       "      <th>3</th>\n",
       "      <td>WeatherDelay</td>\n",
       "      <td>5484993</td>\n",
       "      <td>21.751700</td>\n",
       "    </tr>\n",
       "    <tr>\n",
       "      <th>4</th>\n",
       "      <td>CarrierDelay</td>\n",
       "      <td>5484993</td>\n",
       "      <td>21.751700</td>\n",
       "    </tr>\n",
       "    <tr>\n",
       "      <th>5</th>\n",
       "      <td>SecurityDelay</td>\n",
       "      <td>5484993</td>\n",
       "      <td>21.751700</td>\n",
       "    </tr>\n",
       "    <tr>\n",
       "      <th>6</th>\n",
       "      <td>AirTime</td>\n",
       "      <td>154699</td>\n",
       "      <td>97.793081</td>\n",
       "    </tr>\n",
       "    <tr>\n",
       "      <th>7</th>\n",
       "      <td>ActualElapsedTime</td>\n",
       "      <td>154699</td>\n",
       "      <td>97.793081</td>\n",
       "    </tr>\n",
       "    <tr>\n",
       "      <th>8</th>\n",
       "      <td>ArrDelay</td>\n",
       "      <td>154699</td>\n",
       "      <td>97.793081</td>\n",
       "    </tr>\n",
       "    <tr>\n",
       "      <th>9</th>\n",
       "      <td>ArrTime</td>\n",
       "      <td>151649</td>\n",
       "      <td>97.836592</td>\n",
       "    </tr>\n",
       "    <tr>\n",
       "      <th>10</th>\n",
       "      <td>TaxiIn</td>\n",
       "      <td>151649</td>\n",
       "      <td>97.836592</td>\n",
       "    </tr>\n",
       "    <tr>\n",
       "      <th>11</th>\n",
       "      <td>TaxiOut</td>\n",
       "      <td>137058</td>\n",
       "      <td>98.044746</td>\n",
       "    </tr>\n",
       "    <tr>\n",
       "      <th>12</th>\n",
       "      <td>DepDelay</td>\n",
       "      <td>136246</td>\n",
       "      <td>98.056330</td>\n",
       "    </tr>\n",
       "    <tr>\n",
       "      <th>13</th>\n",
       "      <td>DepTime</td>\n",
       "      <td>136246</td>\n",
       "      <td>98.056330</td>\n",
       "    </tr>\n",
       "    <tr>\n",
       "      <th>14</th>\n",
       "      <td>TailNum</td>\n",
       "      <td>83365</td>\n",
       "      <td>98.810724</td>\n",
       "    </tr>\n",
       "    <tr>\n",
       "      <th>15</th>\n",
       "      <td>CRSElapsedTime</td>\n",
       "      <td>844</td>\n",
       "      <td>99.987960</td>\n",
       "    </tr>\n",
       "    <tr>\n",
       "      <th>16</th>\n",
       "      <td>FlightNum</td>\n",
       "      <td>0</td>\n",
       "      <td>100.000000</td>\n",
       "    </tr>\n",
       "    <tr>\n",
       "      <th>17</th>\n",
       "      <td>Month</td>\n",
       "      <td>0</td>\n",
       "      <td>100.000000</td>\n",
       "    </tr>\n",
       "    <tr>\n",
       "      <th>18</th>\n",
       "      <td>DayofMonth</td>\n",
       "      <td>0</td>\n",
       "      <td>100.000000</td>\n",
       "    </tr>\n",
       "    <tr>\n",
       "      <th>19</th>\n",
       "      <td>DayOfWeek</td>\n",
       "      <td>0</td>\n",
       "      <td>100.000000</td>\n",
       "    </tr>\n",
       "    <tr>\n",
       "      <th>20</th>\n",
       "      <td>Diverted</td>\n",
       "      <td>0</td>\n",
       "      <td>100.000000</td>\n",
       "    </tr>\n",
       "    <tr>\n",
       "      <th>21</th>\n",
       "      <td>Distance</td>\n",
       "      <td>0</td>\n",
       "      <td>100.000000</td>\n",
       "    </tr>\n",
       "    <tr>\n",
       "      <th>22</th>\n",
       "      <td>UniqueCarrier</td>\n",
       "      <td>0</td>\n",
       "      <td>100.000000</td>\n",
       "    </tr>\n",
       "    <tr>\n",
       "      <th>23</th>\n",
       "      <td>Dest</td>\n",
       "      <td>0</td>\n",
       "      <td>100.000000</td>\n",
       "    </tr>\n",
       "    <tr>\n",
       "      <th>24</th>\n",
       "      <td>Origin</td>\n",
       "      <td>0</td>\n",
       "      <td>100.000000</td>\n",
       "    </tr>\n",
       "    <tr>\n",
       "      <th>25</th>\n",
       "      <td>CRSDepTime</td>\n",
       "      <td>0</td>\n",
       "      <td>100.000000</td>\n",
       "    </tr>\n",
       "    <tr>\n",
       "      <th>26</th>\n",
       "      <td>CRSArrTime</td>\n",
       "      <td>0</td>\n",
       "      <td>100.000000</td>\n",
       "    </tr>\n",
       "    <tr>\n",
       "      <th>27</th>\n",
       "      <td>Cancelled</td>\n",
       "      <td>0</td>\n",
       "      <td>100.000000</td>\n",
       "    </tr>\n",
       "    <tr>\n",
       "      <th>28</th>\n",
       "      <td>Year</td>\n",
       "      <td>0</td>\n",
       "      <td>100.000000</td>\n",
       "    </tr>\n",
       "  </tbody>\n",
       "</table>\n",
       "</div>"
      ],
      "text/plain": [
       "             variable  missing values  filling factor (%)\n",
       "0    CancellationCode         6872294            1.960618\n",
       "1   LateAircraftDelay         5484993           21.751700\n",
       "2            NASDelay         5484993           21.751700\n",
       "3        WeatherDelay         5484993           21.751700\n",
       "4        CarrierDelay         5484993           21.751700\n",
       "5       SecurityDelay         5484993           21.751700\n",
       "6             AirTime          154699           97.793081\n",
       "7   ActualElapsedTime          154699           97.793081\n",
       "8            ArrDelay          154699           97.793081\n",
       "9             ArrTime          151649           97.836592\n",
       "10             TaxiIn          151649           97.836592\n",
       "11            TaxiOut          137058           98.044746\n",
       "12           DepDelay          136246           98.056330\n",
       "13            DepTime          136246           98.056330\n",
       "14            TailNum           83365           98.810724\n",
       "15     CRSElapsedTime             844           99.987960\n",
       "16          FlightNum               0          100.000000\n",
       "17              Month               0          100.000000\n",
       "18         DayofMonth               0          100.000000\n",
       "19          DayOfWeek               0          100.000000\n",
       "20           Diverted               0          100.000000\n",
       "21           Distance               0          100.000000\n",
       "22      UniqueCarrier               0          100.000000\n",
       "23               Dest               0          100.000000\n",
       "24             Origin               0          100.000000\n",
       "25         CRSDepTime               0          100.000000\n",
       "26         CRSArrTime               0          100.000000\n",
       "27          Cancelled               0          100.000000\n",
       "28               Year               0          100.000000"
      ]
     },
     "execution_count": 3,
     "metadata": {},
     "output_type": "execute_result"
    }
   ],
   "source": [
    "missing_data = df.isnull().sum(axis=0).reset_index()\n",
    "missing_data.columns = ['variable', 'missing values']\n",
    "missing_data['filling factor (%)']=(df.shape[0]-missing_data['missing values'])/df.shape[0]*100\n",
    "missing_data.sort_values('filling factor (%)').reset_index(drop = True)"
   ]
  },
  {
   "cell_type": "code",
   "execution_count": 4,
   "metadata": {},
   "outputs": [
    {
     "name": "stdout",
     "output_type": "stream",
     "text": [
      "33.72197258392342 21.387057589398967 10.827525310250328 5.947473015796141\n"
     ]
    },
    {
     "data": {
      "image/png": "[encoded data removed]",
      "text/plain": [
       "<Figure size 432x288 with 1 Axes>"
      ]
     },
     "metadata": {
      "needs_background": "light"
     },
     "output_type": "display_data"
    }
   ],
   "source": [
    "origin_del=df['ArrDelay'].groupby(df['Origin']).count()\n",
    "origin_del.nlargest(20).plot.bar()\n",
    "total_del=origin_del.sum()\n",
    "#% del caused by top 10 airports\n",
    "top_10_del=origin_del.nlargest(10).sum()/total_del*100\n",
    "top_5_del=origin_del.nlargest(5).sum()/total_del*100\n",
    "top_2_del=origin_del.nlargest(2).sum()/total_del*100\n",
    "top_del=origin_del.nlargest(1).sum()/total_del*100\n",
    "print(top_10_del,top_5_del,top_2_del,top_del)"
   ]
  },
  {
   "cell_type": "code",
   "execution_count": 5,
   "metadata": {},
   "outputs": [
    {
     "name": "stdout",
     "output_type": "stream",
     "text": [
      "Origin           ABE     ABI      ABQ     ABY    ACK     ACT     ACV    ACY  \\\n",
      "UniqueCarrier                                                                 \n",
      "9E             970.0     NaN      NaN     NaN    NaN     NaN     NaN    NaN   \n",
      "AA               NaN     NaN   3299.0     NaN    NaN     NaN     NaN    NaN   \n",
      "AQ               NaN     NaN      NaN     NaN    NaN     NaN     NaN    NaN   \n",
      "AS               NaN     NaN      NaN     NaN    NaN     NaN     NaN    NaN   \n",
      "B6               NaN     NaN      NaN     NaN  107.0     NaN     NaN    NaN   \n",
      "CO               NaN     NaN   1003.0     NaN    NaN     NaN     NaN    NaN   \n",
      "DL               NaN     NaN   1317.0     NaN    NaN     NaN     NaN    NaN   \n",
      "EV             895.0     NaN      NaN  1077.0    NaN     NaN     NaN  109.0   \n",
      "F9               NaN     NaN   1095.0     NaN    NaN     NaN     NaN    NaN   \n",
      "FL               NaN     NaN      NaN     NaN    NaN     NaN     NaN    NaN   \n",
      "HA               NaN     NaN      NaN     NaN    NaN     NaN     NaN    NaN   \n",
      "MQ               NaN  2614.0    111.0     NaN    NaN  1919.0     NaN    NaN   \n",
      "NW               NaN     NaN    675.0     NaN    NaN     NaN     NaN    NaN   \n",
      "OH             197.0     NaN      NaN     NaN   98.0     NaN     NaN    3.0   \n",
      "OO             703.0     NaN   3719.0     NaN    NaN     NaN  3569.0    NaN   \n",
      "UA               NaN     NaN   1432.0     NaN    NaN     NaN     NaN    NaN   \n",
      "US             359.0     NaN   1634.0     NaN    NaN     NaN     NaN    NaN   \n",
      "WN               NaN     NaN  22375.0     NaN    NaN     NaN     NaN    NaN   \n",
      "XE             791.0     NaN   3952.0     NaN  214.0     NaN     NaN    NaN   \n",
      "YV             727.0     NaN    122.0     NaN    NaN     NaN     NaN    NaN   \n",
      "\n",
      "Origin          ADK    ADQ  ...     TYR     TYS    VLD     VPS    WRG    WYS  \\\n",
      "UniqueCarrier               ...                                                \n",
      "9E              NaN    NaN  ...     NaN  3501.0    NaN     NaN    NaN    NaN   \n",
      "AA              NaN    NaN  ...     NaN     NaN    NaN     NaN    NaN    NaN   \n",
      "AQ              NaN    NaN  ...     NaN     NaN    NaN     NaN    NaN    NaN   \n",
      "AS             92.0  663.0  ...     NaN     NaN    NaN     NaN  685.0    NaN   \n",
      "B6              NaN    NaN  ...     NaN     NaN    NaN     NaN    NaN    NaN   \n",
      "CO              NaN    NaN  ...     NaN     NaN    NaN     NaN    NaN    NaN   \n",
      "DL              NaN    NaN  ...     NaN   388.0    NaN   457.0    NaN    NaN   \n",
      "EV              NaN    NaN  ...     NaN  1919.0  922.0  2484.0    NaN    NaN   \n",
      "F9              NaN    NaN  ...     NaN     NaN    NaN     NaN    NaN    NaN   \n",
      "FL              NaN    NaN  ...     NaN     NaN    NaN     NaN    NaN    NaN   \n",
      "HA              NaN    NaN  ...     NaN     NaN    NaN     NaN    NaN    NaN   \n",
      "MQ              NaN    NaN  ...  1532.0  2621.0    NaN  2122.0    NaN    NaN   \n",
      "NW              NaN    NaN  ...     NaN     NaN    NaN  1032.0    NaN    NaN   \n",
      "OH              NaN    NaN  ...     NaN  1412.0    NaN    96.0    NaN    NaN   \n",
      "OO              NaN    NaN  ...     NaN  1129.0    NaN    55.0    NaN  263.0   \n",
      "UA              NaN    NaN  ...     NaN     NaN    NaN     NaN    NaN    NaN   \n",
      "US              NaN    NaN  ...     NaN     NaN    NaN     NaN    NaN    NaN   \n",
      "WN              NaN    NaN  ...     NaN     NaN    NaN     NaN    NaN    NaN   \n",
      "XE              NaN    NaN  ...     NaN  2467.0    NaN   413.0    NaN    NaN   \n",
      "YV              NaN    NaN  ...     NaN   255.0    NaN     NaN    NaN    NaN   \n",
      "\n",
      "Origin            XNA    YAK    YKM     YUM  \n",
      "UniqueCarrier                                \n",
      "9E             2285.0    NaN    NaN     NaN  \n",
      "AA              835.0    NaN    NaN     NaN  \n",
      "AQ                NaN    NaN    NaN     NaN  \n",
      "AS                NaN  704.0    NaN     NaN  \n",
      "B6                NaN    NaN    NaN     NaN  \n",
      "CO                NaN    NaN    NaN     NaN  \n",
      "DL                NaN    NaN    NaN     NaN  \n",
      "EV             1380.0    NaN    NaN     NaN  \n",
      "F9                NaN    NaN    NaN     NaN  \n",
      "FL                NaN    NaN    NaN     NaN  \n",
      "HA                NaN    NaN    NaN     NaN  \n",
      "MQ             5379.0    NaN    NaN     NaN  \n",
      "NW                3.0    NaN    NaN     NaN  \n",
      "OH               68.0    NaN    NaN     NaN  \n",
      "OO             1727.0    NaN  337.0  1797.0  \n",
      "UA                NaN    NaN    NaN     NaN  \n",
      "US                NaN    NaN    NaN     NaN  \n",
      "WN                NaN    NaN    NaN     NaN  \n",
      "XE             1922.0    NaN    NaN     NaN  \n",
      "YV                NaN    NaN    NaN  1982.0  \n",
      "\n",
      "[20 rows x 303 columns]\n"
     ]
    },
    {
     "data": {
      "image/png": "[encoded data removed]",
      "text/plain": [
       "<Figure size 1440x720 with 1 Axes>"
      ]
     },
     "metadata": {
      "needs_background": "light"
     },
     "output_type": "display_data"
    }
   ],
   "source": [
    "delay_table=pd.pivot_table(df, values = 'ArrDelay', index = 'UniqueCarrier',\n",
    "               columns = 'Origin',aggfunc ='count')\n",
    "print(delay_table)\n",
    "delay_table.mean().nlargest(20).plot.bar(figsize=(20,10))\n",
    "plt.show()"
   ]
  },
  {
   "cell_type": "code",
   "execution_count": 6,
   "metadata": {},
   "outputs": [],
   "source": [
    "df['Date'] = pd.to_datetime(df.Year.map(str)+'-'+df.Month.map(str)+'-'+df.DayofMonth.map(str))"
   ]
  },
  {
   "cell_type": "code",
   "execution_count": null,
   "metadata": {},
   "outputs": [],
   "source": []
  },
  {
   "cell_type": "code",
   "execution_count": 7,
   "metadata": {},
   "outputs": [
    {
     "name": "stdout",
     "output_type": "stream",
     "text": [
      "                   count       mean        std    min   25%  50%   75%     max\n",
      "UniqueCarrier                                                                 \n",
      "9E              254322.0   4.111135  36.445516  -66.0 -13.0 -5.0   7.0  1143.0\n",
      "AA              585485.0  12.607194  43.829002  -90.0  -9.0  1.0  18.0  1525.0\n",
      "AQ                7752.0  -2.888674  15.780388  -90.0  -8.0 -4.0   0.0   338.0\n",
      "AS              148492.0   4.804346  33.955213  -81.0 -12.0 -3.0  10.0   948.0\n",
      "B6              192114.0  11.084184  48.399494  -83.0 -13.0 -3.0  15.0   834.0\n",
      "CO              293855.0  10.979037  41.848055  -83.0  -9.0  0.0  14.0  1017.0\n",
      "DL              443934.0   7.855163  35.441798  -86.0  -9.0 -1.0  12.0  1007.0\n",
      "EV              274867.0  10.208002  41.753274  -89.0 -11.0 -2.0  14.0   940.0\n",
      "F9               95384.0   6.108247  27.416857  -67.0  -8.0  0.0  11.0   809.0\n",
      "FL              258713.0   9.091375  37.660098  -86.0  -9.0 -1.0  12.0  1175.0\n",
      "HA               61212.0   1.264409  27.757878 -519.0  -7.0 -3.0   2.0  1050.0\n",
      "MQ              471161.0   9.890668  41.848963  -78.0 -10.0 -2.0  13.0  1707.0\n",
      "NW              344110.0   7.368539  42.042220  -60.0 -10.0 -1.0  12.0  2461.0\n",
      "OH              190695.0  11.817468  41.234263  -81.0  -9.0  1.0  17.0   955.0\n",
      "OO              553412.0   6.598885  35.338261  -92.0 -10.0 -3.0   8.0   990.0\n",
      "UA              437979.0  11.291322  43.760067  -84.0 -11.0 -1.0  16.0  1322.0\n",
      "US              446086.0   2.848110  32.290086  -91.0 -14.0 -5.0   8.0   876.0\n",
      "WN             1186911.0   5.179678  30.583775 -109.0  -9.0 -3.0   8.0   702.0\n",
      "XE              363414.0  10.635405  42.743979 -129.0 -10.0 -2.0  14.0   838.0\n",
      "YV              245131.0  11.775181  42.695136  -73.0  -9.0  0.0  14.0   606.0\n"
     ]
    }
   ],
   "source": [
    "carrier_del=df['ArrDelay'].groupby(df['UniqueCarrier']).describe()\n",
    "print(carrier_del)"
   ]
  },
  {
   "cell_type": "code",
   "execution_count": 8,
   "metadata": {},
   "outputs": [
    {
     "data": {
      "image/png": "[encoded data removed]",
      "text/plain": [
       "<Figure size 432x288 with 1 Axes>"
      ]
     },
     "metadata": {
      "needs_background": "light"
     },
     "output_type": "display_data"
    }
   ],
   "source": [
    "df['UniqueCarrier'].value_counts(sort=True).nlargest(10).plot.bar()\n",
    "plt.legend([\"Airlines top 10 highest number of flight trips made\"]);\n",
    "\n",
    "plt.show() "
   ]
  },
  {
   "cell_type": "code",
   "execution_count": 9,
   "metadata": {},
   "outputs": [
    {
     "data": {
      "image/png": "[encoded data removed]",
      "text/plain": [
       "<Figure size 432x288 with 1 Axes>"
      ]
     },
     "metadata": {
      "needs_background": "light"
     },
     "output_type": "display_data"
    }
   ],
   "source": [
    "airline_delay=df['ArrDelay'].groupby(df['UniqueCarrier']).mean().nsmallest(10).plot.bar()\n",
    "plt.legend([\"10 smallest mean delay\"]);"
   ]
  },
  {
   "cell_type": "code",
   "execution_count": 10,
   "metadata": {},
   "outputs": [
    {
     "data": {
      "image/png": "[encoded data removed]",
      "text/plain": [
       "<Figure size 432x288 with 1 Axes>"
      ]
     },
     "metadata": {
      "needs_background": "light"
     },
     "output_type": "display_data"
    }
   ],
   "source": [
    "dayOfWeek={1:'Monday', 2:'Tuesday', 3:'Wednesday', 4:'Thursday', 5:'Friday', 6:'Saturday', 7:'Sunday'}\n",
    "dff = df.groupby('DayOfWeek').ArrDelay.sum().round(2)\n",
    "dff = dff.to_frame().sort_index()\n",
    "dff.index = dff.index.map(dayOfWeek)\n",
    "dff.plot.bar()\n",
    "plt.show()"
   ]
  },
  {
   "cell_type": "code",
   "execution_count": 11,
   "metadata": {},
   "outputs": [
    {
     "data": {
      "image/png": "[encoded data removed]",
      "text/plain": [
       "<Figure size 432x288 with 1 Axes>"
      ]
     },
     "metadata": {
      "needs_background": "light"
     },
     "output_type": "display_data"
    }
   ],
   "source": [
    "dayOfMonth={1:'Jan', 2:'Feb', 3:'March', 4:'April', 5:'May', 6:'June', 7:'July',8:'August',9:'September',10:'October',11:'Nov',12:'Dec'}\n",
    "dff = df.groupby('Month').ArrDelay.sum().round(2)\n",
    "dff = dff.to_frame().sort_index()\n",
    "dff.index = dff.index.map(dayOfMonth)\n",
    "dff.plot.bar()\n",
    "plt.show()"
   ]
  },
  {
   "cell_type": "code",
   "execution_count": 12,
   "metadata": {},
   "outputs": [],
   "source": [
    "df=df[df['ArrDelay']>0]"
   ]
  },
  {
   "cell_type": "code",
   "execution_count": 13,
   "metadata": {},
   "outputs": [
    {
     "name": "stdout",
     "output_type": "stream",
     "text": [
      "     tailnum                 type                   manufacturer  issue_date  \\\n",
      "34    N10156          Corporation                        EMBRAER  02/13/2004   \n",
      "35    N102UW          Corporation               AIRBUS INDUSTRIE  05/26/1999   \n",
      "36    N10323          Corporation                         BOEING  07/01/1997   \n",
      "37    N103US          Corporation               AIRBUS INDUSTRIE  06/18/1999   \n",
      "38    N104UA          Corporation                         BOEING  01/26/1998   \n",
      "...      ...                  ...                            ...         ...   \n",
      "5024  N997DL          Corporation  MCDONNELL DOUGLAS AIRCRAFT CO  03/11/1992   \n",
      "5025  N998AT          Corporation                         BOEING  01/23/2003   \n",
      "5026  N998DL          Corporation  MCDONNELL DOUGLAS CORPORATION  04/02/1992   \n",
      "5027  N999CA  Foreign Corporation                       CANADAIR  07/09/2008   \n",
      "5028  N999DN          Corporation  MCDONNELL DOUGLAS CORPORATION  04/02/1992   \n",
      "\n",
      "            model status            aircraft_type engine_type  year  \n",
      "34      EMB-145XR  Valid  Fixed Wing Multi-Engine   Turbo-Fan  2004  \n",
      "35       A320-214  Valid  Fixed Wing Multi-Engine   Turbo-Fan  1998  \n",
      "36        737-3TO  Valid  Fixed Wing Multi-Engine   Turbo-Jet  1986  \n",
      "37       A320-214  Valid  Fixed Wing Multi-Engine   Turbo-Fan  1999  \n",
      "38        747-422  Valid  Fixed Wing Multi-Engine   Turbo-Fan  1998  \n",
      "...           ...    ...                      ...         ...   ...  \n",
      "5024        MD-88  Valid  Fixed Wing Multi-Engine   Turbo-Fan  1992  \n",
      "5025      717-200  Valid  Fixed Wing Multi-Engine   Turbo-Fan  2002  \n",
      "5026        MD-88  Valid  Fixed Wing Multi-Engine   Turbo-Jet  1992  \n",
      "5027  CL-600-2B19  Valid  Fixed Wing Multi-Engine   Turbo-Jet  1998  \n",
      "5028        MD-88  Valid  Fixed Wing Multi-Engine   Turbo-Jet  1992  \n",
      "\n",
      "[4480 rows x 9 columns]\n"
     ]
    }
   ],
   "source": [
    "plane_df=pd.read_csv('plane-data.csv')\n",
    "\n",
    "plane_df=plane_df[plane_df['issue_date'].isna()==False]\n",
    "print(plane_df)"
   ]
  },
  {
   "cell_type": "code",
   "execution_count": 14,
   "metadata": {},
   "outputs": [
    {
     "name": "stdout",
     "output_type": "stream",
     "text": [
      "   Year  Month  DayofMonth  DayOfWeek  DepTime  CRSDepTime  ArrTime  \\\n",
      "0  2008      1           3          4    754.0         735   1002.0   \n",
      "1  2008      1           3          4    628.0         620    804.0   \n",
      "2  2008      1           3          4   1829.0        1755   1959.0   \n",
      "3  2008      1           3          4   1940.0        1915   2121.0   \n",
      "4  2008      1           3          4   1937.0        1830   2037.0   \n",
      "\n",
      "   CRSArrTime UniqueCarrier  FlightNum  ...       Date  tailnum         type  \\\n",
      "0        1000            WN       3231  ... 2008-01-03   N772SW  Corporation   \n",
      "1         750            WN        448  ... 2008-01-03   N428WN  Corporation   \n",
      "2        1925            WN       3920  ... 2008-01-03   N464WN  Corporation   \n",
      "3        2110            WN        378  ... 2008-01-03   N726SW  Corporation   \n",
      "4        1940            WN        509  ... 2008-01-03   N763SW  Corporation   \n",
      "\n",
      "   manufacturer  issue_date    model status            aircraft_type  \\\n",
      "0        BOEING  08/07/2000  737-7H4  Valid  Fixed Wing Multi-Engine   \n",
      "1        BOEING  12/20/2002  737-7H4  Valid  Fixed Wing Multi-Engine   \n",
      "2        BOEING  07/23/2004  737-7H4  Valid  Fixed Wing Multi-Engine   \n",
      "3        BOEING  03/31/1999  737-7H4  Valid  Fixed Wing Multi-Engine   \n",
      "4        BOEING  05/24/2000  737-7H4  Valid  Fixed Wing Multi-Engine   \n",
      "\n",
      "   engine_type  year  \n",
      "0    Turbo-Fan  2000  \n",
      "1    Turbo-Fan  2002  \n",
      "2    Turbo-Fan  2004  \n",
      "3    Turbo-Fan  1999  \n",
      "4    Turbo-Fan  2000  \n",
      "\n",
      "[5 rows x 39 columns]\n"
     ]
    }
   ],
   "source": [
    "df['tailnum']=df['TailNum']\n",
    "airline_df = df.merge(plane_df,  on = \"tailnum\",   how = \"left\")\n",
    "print(airline_df.head())"
   ]
  },
  {
   "cell_type": "code",
   "execution_count": 15,
   "metadata": {},
   "outputs": [
    {
     "data": {
      "image/png": "[encoded data removed]",
      "text/plain": [
       "<Figure size 1440x720 with 1 Axes>"
      ]
     },
     "metadata": {
      "needs_background": "light"
     },
     "output_type": "display_data"
    },
    {
     "data": {
      "image/png": "[encoded data removed]",
      "text/plain": [
       "<Figure size 1440x720 with 1 Axes>"
      ]
     },
     "metadata": {
      "needs_background": "light"
     },
     "output_type": "display_data"
    }
   ],
   "source": [
    "carrier_del_count=airline_df['ArrDelay'].groupby(airline_df['issue_date'])\n",
    "carrier_del_count.agg(['mean']).sort_values(by='mean',ascending=True)[:40].plot.bar(figsize=(20, 10))\n",
    "carrier_del_count.agg(['mean']).sort_values(by='mean',ascending=False)[:40].plot.bar(figsize=(20, 10))\n",
    "plt.show()"
   ]
  },
  {
   "cell_type": "code",
   "execution_count": 16,
   "metadata": {},
   "outputs": [
    {
     "name": "stdout",
     "output_type": "stream",
     "text": [
      "issue_date\n",
      "01/02/1989     537\n",
      "01/02/1998     481\n",
      "01/02/2001     798\n",
      "01/02/2002     918\n",
      "01/02/2003     941\n",
      "              ... \n",
      "12/31/2001    2021\n",
      "12/31/2002    1389\n",
      "12/31/2003     909\n",
      "12/31/2007     839\n",
      "None           109\n",
      "Name: Delayed, Length: 2412, dtype: int64\n",
      "P value 0.000000\n",
      "There sufficient evidence to regect null hypothes\n"
     ]
    }
   ],
   "source": [
    "from scipy.stats import chisquare\n",
    "airline_df['Delayed']= np.where((airline_df['DepDelay']!=0) |(airline_df['ArrDelay']!=0),1,0)\n",
    "chi,p =chisquare(np.array(airline_df.groupby(['issue_date'])['Delayed'].sum()))\n",
    "print(airline_df.groupby(['issue_date'])['Delayed'].sum())\n",
    "print(\"P value {:.6f}\".format(p))\n",
    "if p <0.05:\n",
    "  print(\"There sufficient evidence to regect null hypothes\")\n",
    "else:\n",
    "  print(\"There  no sufficient evidence to reject null hypothes\")\n",
    "#Since null hypothesis is rejected, older planes suffer more delay"
   ]
  },
  {
   "cell_type": "code",
   "execution_count": 17,
   "metadata": {},
   "outputs": [],
   "source": [
    "# Function that convert the 'HHMM' string to datetime.time\n",
    "def format_hour(chain):\n",
    "    if pd.isnull(chain):\n",
    "        return np.nan\n",
    "    else:\n",
    "        if chain == 2400: chain = 0\n",
    "        chain = \"{0:04d}\".format(int(chain))\n",
    "        hour = datetime.time(int(chain[0:2]), int(chain[2:4]))\n",
    "        return hour\n",
    "#_____________________________________________________________________\n",
    "# Function that combines a date and time to produce a datetime.datetime\n",
    "def combine_hour_date(x):\n",
    "    if pd.isnull(x[0]) or pd.isnull(x[1]):\n",
    "        return np.nan\n",
    "    else:\n",
    "        return datetime.datetime.combine(x[0],x[1])\n",
    "#_______________________________________________________________________________\n",
    "# Function that combine two columns of the dataframe to create a datetime format\n",
    "def create_flight_time(df, col):    \n",
    "    list_date = []\n",
    "    for index, cols in df[['Date', col]].iterrows():    \n",
    "        if pd.isnull(cols[1]):\n",
    "            list_date.append(np.nan)\n",
    "        elif float(cols[1]) == 2400:\n",
    "            cols[0] += datetime.timedelta(days=1)\n",
    "            cols[1] = datetime.time(0,0)\n",
    "            list_date.append(combine_hour_date(cols))\n",
    "        else:\n",
    "            cols[1] = format_hour(cols[1])\n",
    "            list_date.append(combine_hour_date(cols))\n",
    "    return pd.Series(list_date)"
   ]
  },
  {
   "cell_type": "code",
   "execution_count": 18,
   "metadata": {},
   "outputs": [],
   "source": [
    "# Import label encoder \n",
    "from sklearn import preprocessing \n",
    "# label_encoder object knows how to understand word labels. \n",
    "label_encoder = preprocessing.LabelEncoder() \n",
    "airline_df_label= airline_df.select_dtypes(include=['object'])\n",
    "airline_df_value=airline_df.select_dtypes(exclude=['object'])\n",
    "airline_df_label=airline_df_label.astype(str).apply(preprocessing.LabelEncoder().fit_transform)\n"
   ]
  },
  {
   "cell_type": "code",
   "execution_count": 19,
   "metadata": {},
   "outputs": [],
   "source": [
    "airline_df_label.head()\n",
    "airline_encoded_df=pd.concat([airline_df_value,airline_df_label],axis=1)"
   ]
  },
  {
   "cell_type": "code",
   "execution_count": 20,
   "metadata": {},
   "outputs": [
    {
     "data": {
      "text/html": [
       "<div>\n",
       "<style scoped>\n",
       "    .dataframe tbody tr th:only-of-type {\n",
       "        vertical-align: middle;\n",
       "    }\n",
       "\n",
       "    .dataframe tbody tr th {\n",
       "        vertical-align: top;\n",
       "    }\n",
       "\n",
       "    .dataframe thead th {\n",
       "        text-align: right;\n",
       "    }\n",
       "</style>\n",
       "<table border=\"1\" class=\"dataframe\">\n",
       "  <thead>\n",
       "    <tr style=\"text-align: right;\">\n",
       "      <th></th>\n",
       "      <th>Year</th>\n",
       "      <th>Month</th>\n",
       "      <th>DayofMonth</th>\n",
       "      <th>DayOfWeek</th>\n",
       "      <th>DepTime</th>\n",
       "      <th>CRSDepTime</th>\n",
       "      <th>ArrTime</th>\n",
       "      <th>CRSArrTime</th>\n",
       "      <th>FlightNum</th>\n",
       "      <th>ActualElapsedTime</th>\n",
       "      <th>...</th>\n",
       "      <th>tailnum</th>\n",
       "      <th>type</th>\n",
       "      <th>manufacturer</th>\n",
       "      <th>issue_date</th>\n",
       "      <th>model</th>\n",
       "      <th>status</th>\n",
       "      <th>aircraft_type</th>\n",
       "      <th>engine_type</th>\n",
       "      <th>year</th>\n",
       "      <th>delay</th>\n",
       "    </tr>\n",
       "  </thead>\n",
       "  <tbody>\n",
       "    <tr>\n",
       "      <th>0</th>\n",
       "      <td>2008</td>\n",
       "      <td>1</td>\n",
       "      <td>3</td>\n",
       "      <td>4</td>\n",
       "      <td>754.0</td>\n",
       "      <td>735</td>\n",
       "      <td>1002.0</td>\n",
       "      <td>1000</td>\n",
       "      <td>3231</td>\n",
       "      <td>128.0</td>\n",
       "      <td>...</td>\n",
       "      <td>4115</td>\n",
       "      <td>1</td>\n",
       "      <td>10</td>\n",
       "      <td>1457</td>\n",
       "      <td>52</td>\n",
       "      <td>1</td>\n",
       "      <td>1</td>\n",
       "      <td>3</td>\n",
       "      <td>41</td>\n",
       "      <td>1</td>\n",
       "    </tr>\n",
       "    <tr>\n",
       "      <th>1</th>\n",
       "      <td>2008</td>\n",
       "      <td>1</td>\n",
       "      <td>3</td>\n",
       "      <td>4</td>\n",
       "      <td>628.0</td>\n",
       "      <td>620</td>\n",
       "      <td>804.0</td>\n",
       "      <td>750</td>\n",
       "      <td>448</td>\n",
       "      <td>96.0</td>\n",
       "      <td>...</td>\n",
       "      <td>1947</td>\n",
       "      <td>1</td>\n",
       "      <td>10</td>\n",
       "      <td>2349</td>\n",
       "      <td>52</td>\n",
       "      <td>1</td>\n",
       "      <td>1</td>\n",
       "      <td>3</td>\n",
       "      <td>43</td>\n",
       "      <td>1</td>\n",
       "    </tr>\n",
       "    <tr>\n",
       "      <th>2</th>\n",
       "      <td>2008</td>\n",
       "      <td>1</td>\n",
       "      <td>3</td>\n",
       "      <td>4</td>\n",
       "      <td>1829.0</td>\n",
       "      <td>1755</td>\n",
       "      <td>1959.0</td>\n",
       "      <td>1925</td>\n",
       "      <td>3920</td>\n",
       "      <td>90.0</td>\n",
       "      <td>...</td>\n",
       "      <td>2128</td>\n",
       "      <td>1</td>\n",
       "      <td>10</td>\n",
       "      <td>1359</td>\n",
       "      <td>52</td>\n",
       "      <td>1</td>\n",
       "      <td>1</td>\n",
       "      <td>3</td>\n",
       "      <td>45</td>\n",
       "      <td>1</td>\n",
       "    </tr>\n",
       "    <tr>\n",
       "      <th>3</th>\n",
       "      <td>2008</td>\n",
       "      <td>1</td>\n",
       "      <td>3</td>\n",
       "      <td>4</td>\n",
       "      <td>1940.0</td>\n",
       "      <td>1915</td>\n",
       "      <td>2121.0</td>\n",
       "      <td>2110</td>\n",
       "      <td>378</td>\n",
       "      <td>101.0</td>\n",
       "      <td>...</td>\n",
       "      <td>3838</td>\n",
       "      <td>1</td>\n",
       "      <td>10</td>\n",
       "      <td>595</td>\n",
       "      <td>52</td>\n",
       "      <td>1</td>\n",
       "      <td>1</td>\n",
       "      <td>3</td>\n",
       "      <td>40</td>\n",
       "      <td>1</td>\n",
       "    </tr>\n",
       "    <tr>\n",
       "      <th>4</th>\n",
       "      <td>2008</td>\n",
       "      <td>1</td>\n",
       "      <td>3</td>\n",
       "      <td>4</td>\n",
       "      <td>1937.0</td>\n",
       "      <td>1830</td>\n",
       "      <td>2037.0</td>\n",
       "      <td>1940</td>\n",
       "      <td>509</td>\n",
       "      <td>240.0</td>\n",
       "      <td>...</td>\n",
       "      <td>4048</td>\n",
       "      <td>1</td>\n",
       "      <td>10</td>\n",
       "      <td>947</td>\n",
       "      <td>52</td>\n",
       "      <td>1</td>\n",
       "      <td>1</td>\n",
       "      <td>3</td>\n",
       "      <td>41</td>\n",
       "      <td>1</td>\n",
       "    </tr>\n",
       "  </tbody>\n",
       "</table>\n",
       "<p>5 rows × 41 columns</p>\n",
       "</div>"
      ],
      "text/plain": [
       "   Year  Month  DayofMonth  DayOfWeek  DepTime  CRSDepTime  ArrTime  \\\n",
       "0  2008      1           3          4    754.0         735   1002.0   \n",
       "1  2008      1           3          4    628.0         620    804.0   \n",
       "2  2008      1           3          4   1829.0        1755   1959.0   \n",
       "3  2008      1           3          4   1940.0        1915   2121.0   \n",
       "4  2008      1           3          4   1937.0        1830   2037.0   \n",
       "\n",
       "   CRSArrTime  FlightNum  ActualElapsedTime  ...  tailnum  type  manufacturer  \\\n",
       "0        1000       3231              128.0  ...     4115     1            10   \n",
       "1         750        448               96.0  ...     1947     1            10   \n",
       "2        1925       3920               90.0  ...     2128     1            10   \n",
       "3        2110        378              101.0  ...     3838     1            10   \n",
       "4        1940        509              240.0  ...     4048     1            10   \n",
       "\n",
       "   issue_date  model  status  aircraft_type  engine_type  year  delay  \n",
       "0        1457     52       1              1            3    41      1  \n",
       "1        2349     52       1              1            3    43      1  \n",
       "2        1359     52       1              1            3    45      1  \n",
       "3         595     52       1              1            3    40      1  \n",
       "4         947     52       1              1            3    41      1  \n",
       "\n",
       "[5 rows x 41 columns]"
      ]
     },
     "execution_count": 20,
     "metadata": {},
     "output_type": "execute_result"
    }
   ],
   "source": [
    "\n",
    "airline_encoded_df['delay']=airline_encoded_df['ArrDelay']>5.00\n",
    "airline_encoded_df['delay'].replace({False: 0, True: 1}, inplace=True)\n",
    "airline_encoded_df.head()"
   ]
  },
  {
   "cell_type": "code",
   "execution_count": 21,
   "metadata": {},
   "outputs": [
    {
     "data": {
      "text/html": [
       "<div>\n",
       "<style scoped>\n",
       "    .dataframe tbody tr th:only-of-type {\n",
       "        vertical-align: middle;\n",
       "    }\n",
       "\n",
       "    .dataframe tbody tr th {\n",
       "        vertical-align: top;\n",
       "    }\n",
       "\n",
       "    .dataframe thead th {\n",
       "        text-align: right;\n",
       "    }\n",
       "</style>\n",
       "<table border=\"1\" class=\"dataframe\">\n",
       "  <thead>\n",
       "    <tr style=\"text-align: right;\">\n",
       "      <th></th>\n",
       "      <th>Year</th>\n",
       "      <th>Month</th>\n",
       "      <th>DayofMonth</th>\n",
       "      <th>DayOfWeek</th>\n",
       "      <th>DepTime</th>\n",
       "      <th>CRSDepTime</th>\n",
       "      <th>ArrTime</th>\n",
       "      <th>CRSArrTime</th>\n",
       "      <th>FlightNum</th>\n",
       "      <th>ActualElapsedTime</th>\n",
       "      <th>...</th>\n",
       "      <th>CancellationCode</th>\n",
       "      <th>tailnum</th>\n",
       "      <th>type</th>\n",
       "      <th>manufacturer</th>\n",
       "      <th>issue_date</th>\n",
       "      <th>model</th>\n",
       "      <th>status</th>\n",
       "      <th>aircraft_type</th>\n",
       "      <th>engine_type</th>\n",
       "      <th>year</th>\n",
       "    </tr>\n",
       "  </thead>\n",
       "  <tbody>\n",
       "    <tr>\n",
       "      <th>count</th>\n",
       "      <td>53365.0</td>\n",
       "      <td>53365.000000</td>\n",
       "      <td>53365.000000</td>\n",
       "      <td>53365.000000</td>\n",
       "      <td>53365.000000</td>\n",
       "      <td>53365.000000</td>\n",
       "      <td>53365.000000</td>\n",
       "      <td>53365.000000</td>\n",
       "      <td>53365.000000</td>\n",
       "      <td>53365.000000</td>\n",
       "      <td>...</td>\n",
       "      <td>53365.0</td>\n",
       "      <td>53365.000000</td>\n",
       "      <td>53365.000000</td>\n",
       "      <td>53365.000000</td>\n",
       "      <td>53365.000000</td>\n",
       "      <td>53365.000000</td>\n",
       "      <td>53365.000000</td>\n",
       "      <td>53365.000000</td>\n",
       "      <td>53365.000000</td>\n",
       "      <td>53365.000000</td>\n",
       "    </tr>\n",
       "    <tr>\n",
       "      <th>mean</th>\n",
       "      <td>2008.0</td>\n",
       "      <td>6.101209</td>\n",
       "      <td>15.708180</td>\n",
       "      <td>3.970205</td>\n",
       "      <td>1502.186414</td>\n",
       "      <td>1444.490865</td>\n",
       "      <td>1587.651682</td>\n",
       "      <td>1614.926581</td>\n",
       "      <td>2231.719423</td>\n",
       "      <td>143.985271</td>\n",
       "      <td>...</td>\n",
       "      <td>0.0</td>\n",
       "      <td>2719.011056</td>\n",
       "      <td>1.446585</td>\n",
       "      <td>15.394079</td>\n",
       "      <td>1380.369212</td>\n",
       "      <td>100.485918</td>\n",
       "      <td>1.109266</td>\n",
       "      <td>1.332840</td>\n",
       "      <td>3.733739</td>\n",
       "      <td>39.964452</td>\n",
       "    </tr>\n",
       "    <tr>\n",
       "      <th>std</th>\n",
       "      <td>0.0</td>\n",
       "      <td>3.513934</td>\n",
       "      <td>8.758844</td>\n",
       "      <td>1.985512</td>\n",
       "      <td>472.583846</td>\n",
       "      <td>439.705494</td>\n",
       "      <td>573.704031</td>\n",
       "      <td>472.444306</td>\n",
       "      <td>1985.163628</td>\n",
       "      <td>76.402772</td>\n",
       "      <td>...</td>\n",
       "      <td>0.0</td>\n",
       "      <td>1543.888031</td>\n",
       "      <td>1.252753</td>\n",
       "      <td>9.570108</td>\n",
       "      <td>746.742757</td>\n",
       "      <td>45.630355</td>\n",
       "      <td>0.311976</td>\n",
       "      <td>0.938341</td>\n",
       "      <td>1.259903</td>\n",
       "      <td>8.077481</td>\n",
       "    </tr>\n",
       "    <tr>\n",
       "      <th>min</th>\n",
       "      <td>2008.0</td>\n",
       "      <td>1.000000</td>\n",
       "      <td>1.000000</td>\n",
       "      <td>1.000000</td>\n",
       "      <td>1.000000</td>\n",
       "      <td>1.000000</td>\n",
       "      <td>1.000000</td>\n",
       "      <td>1.000000</td>\n",
       "      <td>1.000000</td>\n",
       "      <td>18.000000</td>\n",
       "      <td>...</td>\n",
       "      <td>0.0</td>\n",
       "      <td>0.000000</td>\n",
       "      <td>0.000000</td>\n",
       "      <td>0.000000</td>\n",
       "      <td>0.000000</td>\n",
       "      <td>0.000000</td>\n",
       "      <td>1.000000</td>\n",
       "      <td>0.000000</td>\n",
       "      <td>0.000000</td>\n",
       "      <td>0.000000</td>\n",
       "    </tr>\n",
       "    <tr>\n",
       "      <th>25%</th>\n",
       "      <td>2008.0</td>\n",
       "      <td>3.000000</td>\n",
       "      <td>8.000000</td>\n",
       "      <td>2.000000</td>\n",
       "      <td>1140.000000</td>\n",
       "      <td>1110.000000</td>\n",
       "      <td>1246.000000</td>\n",
       "      <td>1255.000000</td>\n",
       "      <td>623.000000</td>\n",
       "      <td>88.000000</td>\n",
       "      <td>...</td>\n",
       "      <td>0.0</td>\n",
       "      <td>1411.000000</td>\n",
       "      <td>1.000000</td>\n",
       "      <td>10.000000</td>\n",
       "      <td>765.000000</td>\n",
       "      <td>52.000000</td>\n",
       "      <td>1.000000</td>\n",
       "      <td>1.000000</td>\n",
       "      <td>3.000000</td>\n",
       "      <td>35.000000</td>\n",
       "    </tr>\n",
       "    <tr>\n",
       "      <th>50%</th>\n",
       "      <td>2008.0</td>\n",
       "      <td>6.000000</td>\n",
       "      <td>16.000000</td>\n",
       "      <td>4.000000</td>\n",
       "      <td>1541.000000</td>\n",
       "      <td>1500.000000</td>\n",
       "      <td>1710.000000</td>\n",
       "      <td>1657.000000</td>\n",
       "      <td>1557.000000</td>\n",
       "      <td>127.000000</td>\n",
       "      <td>...</td>\n",
       "      <td>0.0</td>\n",
       "      <td>2673.000000</td>\n",
       "      <td>1.000000</td>\n",
       "      <td>12.000000</td>\n",
       "      <td>1397.000000</td>\n",
       "      <td>119.000000</td>\n",
       "      <td>1.000000</td>\n",
       "      <td>1.000000</td>\n",
       "      <td>3.000000</td>\n",
       "      <td>41.000000</td>\n",
       "    </tr>\n",
       "    <tr>\n",
       "      <th>75%</th>\n",
       "      <td>2008.0</td>\n",
       "      <td>9.000000</td>\n",
       "      <td>23.000000</td>\n",
       "      <td>6.000000</td>\n",
       "      <td>1903.000000</td>\n",
       "      <td>1815.000000</td>\n",
       "      <td>2034.000000</td>\n",
       "      <td>2010.000000</td>\n",
       "      <td>3571.000000</td>\n",
       "      <td>178.000000</td>\n",
       "      <td>...</td>\n",
       "      <td>0.0</td>\n",
       "      <td>4007.000000</td>\n",
       "      <td>1.000000</td>\n",
       "      <td>19.000000</td>\n",
       "      <td>2046.000000</td>\n",
       "      <td>137.000000</td>\n",
       "      <td>1.000000</td>\n",
       "      <td>1.000000</td>\n",
       "      <td>4.000000</td>\n",
       "      <td>45.000000</td>\n",
       "    </tr>\n",
       "    <tr>\n",
       "      <th>max</th>\n",
       "      <td>2008.0</td>\n",
       "      <td>12.000000</td>\n",
       "      <td>31.000000</td>\n",
       "      <td>7.000000</td>\n",
       "      <td>2400.000000</td>\n",
       "      <td>2359.000000</td>\n",
       "      <td>2400.000000</td>\n",
       "      <td>2359.000000</td>\n",
       "      <td>9740.000000</td>\n",
       "      <td>776.000000</td>\n",
       "      <td>...</td>\n",
       "      <td>0.0</td>\n",
       "      <td>5357.000000</td>\n",
       "      <td>5.000000</td>\n",
       "      <td>37.000000</td>\n",
       "      <td>2412.000000</td>\n",
       "      <td>165.000000</td>\n",
       "      <td>2.000000</td>\n",
       "      <td>4.000000</td>\n",
       "      <td>7.000000</td>\n",
       "      <td>51.000000</td>\n",
       "    </tr>\n",
       "  </tbody>\n",
       "</table>\n",
       "<p>8 rows × 38 columns</p>\n",
       "</div>"
      ],
      "text/plain": [
       "          Year         Month    DayofMonth     DayOfWeek       DepTime  \\\n",
       "count  53365.0  53365.000000  53365.000000  53365.000000  53365.000000   \n",
       "mean    2008.0      6.101209     15.708180      3.970205   1502.186414   \n",
       "std        0.0      3.513934      8.758844      1.985512    472.583846   \n",
       "min     2008.0      1.000000      1.000000      1.000000      1.000000   \n",
       "25%     2008.0      3.000000      8.000000      2.000000   1140.000000   \n",
       "50%     2008.0      6.000000     16.000000      4.000000   1541.000000   \n",
       "75%     2008.0      9.000000     23.000000      6.000000   1903.000000   \n",
       "max     2008.0     12.000000     31.000000      7.000000   2400.000000   \n",
       "\n",
       "         CRSDepTime       ArrTime    CRSArrTime     FlightNum  \\\n",
       "count  53365.000000  53365.000000  53365.000000  53365.000000   \n",
       "mean    1444.490865   1587.651682   1614.926581   2231.719423   \n",
       "std      439.705494    573.704031    472.444306   1985.163628   \n",
       "min        1.000000      1.000000      1.000000      1.000000   \n",
       "25%     1110.000000   1246.000000   1255.000000    623.000000   \n",
       "50%     1500.000000   1710.000000   1657.000000   1557.000000   \n",
       "75%     1815.000000   2034.000000   2010.000000   3571.000000   \n",
       "max     2359.000000   2400.000000   2359.000000   9740.000000   \n",
       "\n",
       "       ActualElapsedTime  ...  CancellationCode       tailnum          type  \\\n",
       "count       53365.000000  ...           53365.0  53365.000000  53365.000000   \n",
       "mean          143.985271  ...               0.0   2719.011056      1.446585   \n",
       "std            76.402772  ...               0.0   1543.888031      1.252753   \n",
       "min            18.000000  ...               0.0      0.000000      0.000000   \n",
       "25%            88.000000  ...               0.0   1411.000000      1.000000   \n",
       "50%           127.000000  ...               0.0   2673.000000      1.000000   \n",
       "75%           178.000000  ...               0.0   4007.000000      1.000000   \n",
       "max           776.000000  ...               0.0   5357.000000      5.000000   \n",
       "\n",
       "       manufacturer    issue_date         model        status  aircraft_type  \\\n",
       "count  53365.000000  53365.000000  53365.000000  53365.000000   53365.000000   \n",
       "mean      15.394079   1380.369212    100.485918      1.109266       1.332840   \n",
       "std        9.570108    746.742757     45.630355      0.311976       0.938341   \n",
       "min        0.000000      0.000000      0.000000      1.000000       0.000000   \n",
       "25%       10.000000    765.000000     52.000000      1.000000       1.000000   \n",
       "50%       12.000000   1397.000000    119.000000      1.000000       1.000000   \n",
       "75%       19.000000   2046.000000    137.000000      1.000000       1.000000   \n",
       "max       37.000000   2412.000000    165.000000      2.000000       4.000000   \n",
       "\n",
       "        engine_type          year  \n",
       "count  53365.000000  53365.000000  \n",
       "mean       3.733739     39.964452  \n",
       "std        1.259903      8.077481  \n",
       "min        0.000000      0.000000  \n",
       "25%        3.000000     35.000000  \n",
       "50%        3.000000     41.000000  \n",
       "75%        4.000000     45.000000  \n",
       "max        7.000000     51.000000  \n",
       "\n",
       "[8 rows x 38 columns]"
      ]
     },
     "execution_count": 21,
     "metadata": {},
     "output_type": "execute_result"
    }
   ],
   "source": [
    "from sklearn.ensemble import ExtraTreesClassifier\n",
    "from sklearn.model_selection import train_test_split\n",
    "airline_encoded_df=airline_encoded_df.dropna()\n",
    "airline_encoded_df_sample=airline_encoded_df.sample(frac =.05)\n",
    "X=airline_encoded_df_sample.drop(['ArrDelay','delay','Date'], axis =1)\n",
    "y=airline_encoded_df_sample['delay']\n",
    "X_train, X_test, y_train, y_test = train_test_split(\n",
    "X, y, test_size=0.3, random_state=42)\n",
    "model = ExtraTreesClassifier()\n",
    "X_train.describe()"
   ]
  },
  {
   "cell_type": "code",
   "execution_count": 22,
   "metadata": {
    "scrolled": true
   },
   "outputs": [
    {
     "name": "stdout",
     "output_type": "stream",
     "text": [
      "[0.         0.01659128 0.01563179 0.01502397 0.06155326 0.03730267\n",
      " 0.03069955 0.02531854 0.0169589  0.05697059 0.02767804 0.02793678\n",
      " 0.07862609 0.02248705 0.02929237 0.06262059 0.         0.\n",
      " 0.10760933 0.01550142 0.11963165 0.00155855 0.08874996 0.\n",
      " 0.01481874 0.01536721 0.0158947  0.01656635 0.         0.01574232\n",
      " 0.00176298 0.00983651 0.01416041 0.01357151 0.00127321 0.00163664\n",
      " 0.00822322 0.01340382]\n"
     ]
    },
    {
     "data": {
      "image/png": "[encoded data removed]",
      "text/plain": [
       "<Figure size 720x1440 with 1 Axes>"
      ]
     },
     "metadata": {
      "needs_background": "light"
     },
     "output_type": "display_data"
    }
   ],
   "source": [
    "model.fit(X_train,y_train)\n",
    "print(model.feature_importances_) #use inbuilt class feature_importances of tree based classifiers\n",
    "#plot graph of feature importances for better visualization\n",
    "feat_importances = pd.Series(model.feature_importances_, index=X.columns)\n",
    "feat_importances.sort_values().plot(kind='barh',figsize=(10, 20))\n",
    "plt.show()"
   ]
  },
  {
   "cell_type": "code",
   "execution_count": 23,
   "metadata": {},
   "outputs": [
    {
     "data": {
      "text/plain": [
       "<AxesSubplot:>"
      ]
     },
     "execution_count": 23,
     "metadata": {},
     "output_type": "execute_result"
    },
    {
     "data": {
      "image/png": "[encoded data removed]",
      "text/plain": [
       "<Figure size 792x648 with 2 Axes>"
      ]
     },
     "metadata": {},
     "output_type": "display_data"
    }
   ],
   "source": [
    "import seaborn as sns\n",
    "\n",
    "sns.set_theme(style=\"white\")\n",
    "corr = X_train.corr()\n",
    "mask = np.triu(np.ones_like(corr, dtype=bool))\n",
    "\n",
    "# Set up the matplotlib figure\n",
    "f, ax = plt.subplots(figsize=(11, 9))\n",
    "\n",
    "# Generate a custom diverging colormap\n",
    "cmap = sns.diverging_palette(230, 20, as_cmap=True)\n",
    "\n",
    "# Draw the heatmap with the mask and correct aspect ratio\n",
    "sns.heatmap(corr, mask=mask, cmap=cmap, vmax=.3, center=0,\n",
    "            square=True, linewidths=.5, cbar_kws={\"shrink\": .5})"
   ]
  },
  {
   "cell_type": "code",
   "execution_count": 24,
   "metadata": {},
   "outputs": [],
   "source": [
    "X_test=X_test.drop(['Year','CancellationCode','Delayed','Diverted','Cancelled','SecurityDelay','status','aircraft_type','type','year','engine_type','manufacturer','model','issue_date'],axis=1)\n",
    "X_test.dtypes\n",
    "X_train=X_train.drop(['Year','CancellationCode','Delayed','Diverted','Cancelled','SecurityDelay','status','aircraft_type','type','year','engine_type','manufacturer','model','issue_date'],axis=1)"
   ]
  },
  {
   "cell_type": "code",
   "execution_count": 25,
   "metadata": {},
   "outputs": [
    {
     "name": "stdout",
     "output_type": "stream",
     "text": [
      "LR 0.955870 0.004803 \n",
      "LDA 0.876492 0.004668 \n",
      "KNN 0.814129 0.005969 \n",
      "CART 0.966026 0.002074 \n",
      "NB 0.845179 0.006251 \n"
     ]
    }
   ],
   "source": [
    "\n",
    "from sklearn.preprocessing import StandardScaler\n",
    "from sklearn.model_selection import train_test_split\n",
    "from sklearn.model_selection import KFold\n",
    "from sklearn.model_selection import cross_val_score\n",
    "from sklearn.model_selection import GridSearchCV\n",
    "from sklearn.metrics import classification_report\n",
    "from sklearn.metrics import confusion_matrix\n",
    "from sklearn.metrics import accuracy_score\n",
    "from sklearn.pipeline import Pipeline\n",
    "from sklearn.linear_model import LogisticRegression\n",
    "from sklearn.tree import DecisionTreeClassifier\n",
    "from sklearn.neighbors import KNeighborsClassifier\n",
    "from sklearn.discriminant_analysis import LinearDiscriminantAnalysis\n",
    "from sklearn.naive_bayes import GaussianNB\n",
    "from sklearn.svm import SVC\n",
    "from sklearn.ensemble import AdaBoostClassifier\n",
    "from sklearn.ensemble import GradientBoostingClassifier\n",
    "from sklearn.ensemble import RandomForestClassifier\n",
    "from sklearn.ensemble import ExtraTreesClassifier\n",
    "import warnings\n",
    "warnings.filterwarnings('ignore')\n",
    "%matplotlib inline\n",
    "num_folds = 10\n",
    "seed = 7\n",
    "scoring = 'accuracy'\n",
    "models = []\n",
    "models.append(('LR', LogisticRegression()))\n",
    "models.append(('LDA', LinearDiscriminantAnalysis()))\n",
    "models.append(('KNN', KNeighborsClassifier()))\n",
    "models.append(('CART', DecisionTreeClassifier()))\n",
    "models.append(('NB', GaussianNB()))\n",
    "\n",
    "results = []\n",
    "names = []\n",
    "for name, model in models:\n",
    "    kfold = KFold(n_splits=num_folds, random_state=seed)\n",
    "    cv_results = cross_val_score(model, X_train, y_train, cv=kfold, scoring=scoring)\n",
    "    results.append(cv_results)\n",
    "    names.append(name)\n",
    "    msg = \"%s %f %f \" % (name, cv_results.mean(), cv_results.std())\n",
    "    print(msg)"
   ]
  },
  {
   "cell_type": "code",
   "execution_count": 26,
   "metadata": {},
   "outputs": [
    {
     "data": {
      "image/png": "[encoded data removed]",
      "text/plain": [
       "<Figure size 432x288 with 1 Axes>"
      ]
     },
     "metadata": {
      "needs_background": "light"
     },
     "output_type": "display_data"
    }
   ],
   "source": [
    "# compare algorithms\n",
    "fig = plt.figure()\n",
    "fig.suptitle('Comparison of non-ensemble methods')\n",
    "ax = fig.add_subplot(111)\n",
    "plt.boxplot(results)\n",
    "ax.set_xticklabels(names)\n",
    "plt.show();"
   ]
  },
  {
   "cell_type": "code",
   "execution_count": 27,
   "metadata": {},
   "outputs": [
    {
     "name": "stdout",
     "output_type": "stream",
     "text": [
      "Best: 0.826909 using {'n_neighbors': 21}\n",
      "0.772398 (0.005230) with: {'n_neighbors': 1}\n",
      "0.801386 (0.005862) with: {'n_neighbors': 3}\n",
      "0.814129 (0.005969) with: {'n_neighbors': 5}\n",
      "0.820350 (0.004223) with: {'n_neighbors': 7}\n",
      "0.824342 (0.004850) with: {'n_neighbors': 9}\n",
      "0.826741 (0.005780) with: {'n_neighbors': 15}\n",
      "0.826684 (0.006056) with: {'n_neighbors': 19}\n",
      "0.826909 (0.005659) with: {'n_neighbors': 21}\n"
     ]
    }
   ],
   "source": [
    "\n",
    "neighbors = [1, 3, 5, 7, 9, 15, 19, 21]\n",
    "param_grid = dict(n_neighbors=neighbors)\n",
    "model = KNeighborsClassifier()\n",
    "kfold = KFold(n_splits=num_folds, random_state=seed)\n",
    "grid = GridSearchCV(estimator=model, param_grid=param_grid, scoring=scoring, cv=kfold)\n",
    "grid_result = grid.fit(X_train, y_train)\n",
    "print(\"Best: %f using %s\" % (grid_result.best_score_, grid_result.best_params_))\n",
    "means = grid_result.cv_results_['mean_test_score']\n",
    "stds = grid_result.cv_results_['std_test_score']\n",
    "params = grid_result.cv_results_['params']\n",
    "for mean, stdev, param in zip(means, stds, params):\n",
    "    print(\"%f (%f) with: %r\" % (mean, stdev, param))"
   ]
  },
  {
   "cell_type": "code",
   "execution_count": 28,
   "metadata": {},
   "outputs": [
    {
     "name": "stdout",
     "output_type": "stream",
     "text": [
      "AB: 0.966195 (0.002219)\n",
      "GBM: 0.973035 (0.001898)\n",
      "RF: 0.975677 (0.001766)\n",
      "ET: 0.970224 (0.002920)\n"
     ]
    },
    {
     "data": {
      "image/png": "[encoded data removed]",
      "text/plain": [
       "<Figure size 432x288 with 1 Axes>"
      ]
     },
     "metadata": {
      "needs_background": "light"
     },
     "output_type": "display_data"
    }
   ],
   "source": [
    "ensembles = []\n",
    "ensembles.append(('AB', AdaBoostClassifier()))\n",
    "ensembles.append(('GBM', GradientBoostingClassifier()))\n",
    "ensembles.append(('RF', RandomForestClassifier()))\n",
    "ensembles.append(('ET', ExtraTreesClassifier()))\n",
    "results = []\n",
    "names = []\n",
    "for name, model in ensembles:\n",
    "    kfold = KFold(n_splits=num_folds, random_state=seed)\n",
    "    cv_results = cross_val_score(model, X_train, y_train, cv=kfold, scoring=scoring)\n",
    "    results.append(cv_results)\n",
    "    names.append(name)\n",
    "    msg = \"%s: %f (%f)\" % (name, cv_results.mean(), cv_results.std())\n",
    "    print(msg)\n",
    "\n",
    "# Compare Algorithms\n",
    "fig = plt.figure()\n",
    "fig.suptitle('Ensemble Algorithm Comparison')\n",
    "ax = fig.add_subplot(111)\n",
    "plt.boxplot(results)\n",
    "ax.set_xticklabels(names)\n",
    "plt.show();\n"
   ]
  },
  {
   "cell_type": "code",
   "execution_count": 29,
   "metadata": {},
   "outputs": [
    {
     "name": "stdout",
     "output_type": "stream",
     "text": [
      "Accuracy: 0.9745977614550542\n"
     ]
    }
   ],
   "source": [
    "clf=RandomForestClassifier(n_estimators=100)\n",
    "\n",
    "#Train the model using the training sets y_pred=clf.predict(X_test)\n",
    "clf.fit(X_train,y_train)\n",
    "\n",
    "# prediction on test set\n",
    "y_pred=clf.predict(X_test)\n",
    "\n",
    "#Import scikit-learn metrics module for accuracy calculation\n",
    "from sklearn import metrics\n",
    "# Model Accuracy, how often is the classifier correct?\n",
    "print(\"Accuracy:\",metrics.accuracy_score(y_test, y_pred))\n"
   ]
  },
  {
   "cell_type": "code",
   "execution_count": 30,
   "metadata": {
    "scrolled": true
   },
   "outputs": [
    {
     "name": "stdout",
     "output_type": "stream",
     "text": [
      "              precision    recall  f1-score   support\n",
      "\n",
      "           0       0.93      0.94      0.93      4182\n",
      "           1       0.99      0.98      0.98     18690\n",
      "\n",
      "    accuracy                           0.97     22872\n",
      "   macro avg       0.96      0.96      0.96     22872\n",
      "weighted avg       0.97      0.97      0.97     22872\n",
      "\n"
     ]
    }
   ],
   "source": [
    "from sklearn.metrics import classification_report\n",
    "print(classification_report(y_test, y_pred))"
   ]
  },
  {
   "cell_type": "code",
   "execution_count": 31,
   "metadata": {},
   "outputs": [],
   "source": [
    "from sklearn.ensemble import ExtraTreesClassifier\n",
    "from sklearn.model_selection import train_test_split\n",
    "airline_encoded_df=airline_encoded_df.dropna()\n",
    "airline_encoded_df_sample=airline_encoded_df.sample(frac =.05)\n",
    "X=airline_encoded_df_sample.drop(['ArrDelay','delay','Date'], axis =1)\n",
    "y=airline_encoded_df_sample['ArrDelay']\n",
    "X_train, X_test, y_train, y_test = train_test_split(\n",
    "X, y, test_size=0.3, random_state=42)"
   ]
  },
  {
   "cell_type": "code",
   "execution_count": 32,
   "metadata": {},
   "outputs": [
    {
     "data": {
      "text/plain": [
       "RandomForestRegressor(random_state=0)"
      ]
     },
     "execution_count": 32,
     "metadata": {},
     "output_type": "execute_result"
    }
   ],
   "source": [
    "from sklearn.ensemble import RandomForestRegressor\n",
    "\n",
    "regressor = RandomForestRegressor(n_estimators = 100, random_state = 0)\n",
    "  \n",
    "\n",
    "regressor.fit(X_train, y_train)  "
   ]
  },
  {
   "cell_type": "code",
   "execution_count": 33,
   "metadata": {},
   "outputs": [
    {
     "name": "stdout",
     "output_type": "stream",
     "text": [
      "Root Mean Square Error:\n",
      "\n",
      "7.782957830979896\n",
      "R2 Score:\n",
      "\n",
      "0.9811166045003865\n"
     ]
    }
   ],
   "source": [
    "y_pred=regressor.predict(X_test)\n",
    "from sklearn.metrics import r2_score\n",
    "import math\n",
    "\n",
    " \n",
    "MSE = np.square(np.subtract(y_test,y_pred)).mean() \n",
    " \n",
    "RMSE = math.sqrt(MSE)\n",
    "print(\"Root Mean Square Error:\\n\")\n",
    "print(RMSE)\n",
    "r2=r2_score(y_test, y_pred)\n",
    "print(\"R2 Score:\\n\")\n",
    "print(r2)"
   ]
  },
  {
   "cell_type": "code",
   "execution_count": null,
   "metadata": {},
   "outputs": [],
   "source": []
  }
 ],
 "metadata": {
  "kernelspec": {
   "display_name": "Python 3",
   "language": "python",
   "name": "python3"
  },
  "language_info": {
   "codemirror_mode": {
    "name": "ipython",
    "version": 3
   },
   "file_extension": ".py",
   "mimetype": "text/x-python",
   "name": "python",
   "nbconvert_exporter": "python",
   "pygments_lexer": "ipython3",
   "version": "3.8.5"
  }
 },
 "nbformat": 4,
 "nbformat_minor": 4
}
